{
 "cells": [
  {
   "cell_type": "code",
   "execution_count": 1,
   "id": "2f940649",
   "metadata": {},
   "outputs": [
    {
     "name": "stderr",
     "output_type": "stream",
     "text": [
      "2023-09-15 14:19:46.903984: I tensorflow/core/platform/cpu_feature_guard.cc:193] This TensorFlow binary is optimized with oneAPI Deep Neural Network Library (oneDNN) to use the following CPU instructions in performance-critical operations:  SSE4.1 SSE4.2 AVX AVX2 FMA\n",
      "To enable them in other operations, rebuild TensorFlow with the appropriate compiler flags.\n",
      "/var/folders/_j/jxj9zb555rx6r9825t1lmz_r000fpf/T/ipykernel_4275/2440279263.py:18: DeprecationWarning: Please use `pearsonr` from the `scipy.stats` namespace, the `scipy.stats.stats` namespace is deprecated.\n",
      "  from scipy.stats.stats import pearsonr\n"
     ]
    }
   ],
   "source": [
    "import numpy as np\n",
    "import tensorflow as tf\n",
    "from tensorflow import keras\n",
    "from tensorflow.keras import layers, regularizers, activations\n",
    "from os.path import join, basename, exists\n",
    "from os import mkdir\n",
    "import itertools\n",
    "import pandas as pd\n",
    "import sys\n",
    "from keras import backend as K\n",
    "from sklearn.datasets import load_digits\n",
    "from sklearn.metrics import accuracy_score, f1_score, confusion_matrix\n",
    "from sklearn.linear_model import LogisticRegression\n",
    "import random\n",
    "import pandas as pd\n",
    "from keras.layers import *\n",
    "from keras import metrics\n",
    "from scipy.stats.stats import pearsonr\n",
    "from datetime import datetime\n",
    "from tensorflow.python.keras.callbacks import EarlyStopping, ModelCheckpoint\n",
    "from glob import glob\n",
    "from matplotlib import pyplot as plt\n",
    "import seaborn as sb\n",
    "from IPython.display import clear_output\n",
    "import json\n",
    "from cgr_model import TwinModel, train_submodels, get_individual_predictions"
   ]
  },
  {
   "cell_type": "markdown",
   "id": "8cfa3cb5",
   "metadata": {},
   "source": [
    "# Train and test the PPI Pre benchmark data on ensemble of CGR models\n",
    "\n",
    "## Negatome data"
   ]
  },
  {
   "cell_type": "code",
   "execution_count": 17,
   "id": "f7483d71",
   "metadata": {},
   "outputs": [],
   "source": [
    "datasets = ['negatome','recombine']\n",
    "data_parent = 'data/0000_datasets_as_used_in_paper/PPIPre_benchmark_data/'\n",
    "directory='data/0007_ppipre_benchmark_data/'\n",
    "dataset_name='Negatome'\n",
    "if not exists(join(directory, dataset_name)):\n",
    "    mkdir(join(directory, dataset_name))\n",
    "out_parent = join(directory, dataset_name, 'Out')\n",
    "if not exists(out_parent):\n",
    "    mkdir(out_parent)\n",
    "out_checkpoints = join(out_parent, 'checkpoints')\n",
    "if not exists(out_checkpoints):\n",
    "    mkdir(out_checkpoints)"
   ]
  },
  {
   "cell_type": "code",
   "execution_count": 3,
   "id": "2c5410d6",
   "metadata": {},
   "outputs": [],
   "source": [
    "# Load in details of each model in ensemble:\n",
    "with open(join(directory,'submodel_params.json'), 'r') as param_file:\n",
    "    submodel_params = json.load(param_file)"
   ]
  },
  {
   "cell_type": "code",
   "execution_count": null,
   "id": "a140dbe9",
   "metadata": {},
   "outputs": [],
   "source": [
    "# Best test acc. from the combinations with the highest val. acc.\n",
    "\n",
    "# Go through and train a model on the training data for each submodel in the ensemble. Save a checkpoint model.\n",
    "# (Actually run elsewhere)\n",
    "for i in [2, 3, 4, 7, 10, 14, 15, 18, 21, 22]:\n",
    "    params = submodel_params[i]\n",
    "    data_file = f'{data_parent}/{dataset_name}/{params[\"k\"]}_randomised.npz'\n",
    "    train_submodels(params,i,data_file,dataset_name, out_checkpoints, 1)\n",
    "    "
   ]
  },
  {
   "cell_type": "code",
   "execution_count": 12,
   "id": "66831016",
   "metadata": {},
   "outputs": [],
   "source": [
    "def get_votes(prediction_list, index_list,class_threshold=0.5):\n",
    "    test_votes = np.zeros((len(prediction_list[0]),))\n",
    "    for row in prediction_list:\n",
    "        classifications = row > class_threshold\n",
    "        test_votes+=classifications\n",
    "    return test_votes"
   ]
  },
  {
   "cell_type": "code",
   "execution_count": 19,
   "id": "c1449099",
   "metadata": {},
   "outputs": [
    {
     "name": "stdout",
     "output_type": "stream",
     "text": [
      "tf.Tensor(0.0010000000474974513, shape=(), dtype=float64) 0.01 0.001\n",
      "77/77 [==============================] - 25s 324ms/step\n",
      "WARNING:tensorflow:Detecting that an object or model or tf.train.Checkpoint is being deleted with unrestored values. See the following logs for the specific values in question. To silence these warnings, use `status.expect_partial()`. See https://www.tensorflow.org/api_docs/python/tf/train/Checkpoint#restorefor details about the status object returned by the restore function.\n",
      "WARNING:tensorflow:Value in checkpoint could not be found in the restored object: (root).optimizer.iter\n",
      "WARNING:tensorflow:Value in checkpoint could not be found in the restored object: (root).optimizer.decay\n",
      "WARNING:tensorflow:Value in checkpoint could not be found in the restored object: (root).optimizer.learning_rate\n",
      "WARNING:tensorflow:Value in checkpoint could not be found in the restored object: (root).optimizer.momentum\n",
      "WARNING:tensorflow:Detecting that an object or model or tf.train.Checkpoint is being deleted with unrestored values. See the following logs for the specific values in question. To silence these warnings, use `status.expect_partial()`. See https://www.tensorflow.org/api_docs/python/tf/train/Checkpoint#restorefor details about the status object returned by the restore function.\n",
      "WARNING:tensorflow:Value in checkpoint could not be found in the restored object: (root).optimizer.iter\n",
      "WARNING:tensorflow:Value in checkpoint could not be found in the restored object: (root).optimizer.decay\n",
      "WARNING:tensorflow:Value in checkpoint could not be found in the restored object: (root).optimizer.learning_rate\n",
      "WARNING:tensorflow:Value in checkpoint could not be found in the restored object: (root).optimizer.momentum\n",
      "WARNING:tensorflow:Detecting that an object or model or tf.train.Checkpoint is being deleted with unrestored values. See the following logs for the specific values in question. To silence these warnings, use `status.expect_partial()`. See https://www.tensorflow.org/api_docs/python/tf/train/Checkpoint#restorefor details about the status object returned by the restore function.\n",
      "WARNING:tensorflow:Value in checkpoint could not be found in the restored object: (root).optimizer.iter\n",
      "WARNING:tensorflow:Value in checkpoint could not be found in the restored object: (root).optimizer.decay\n",
      "WARNING:tensorflow:Value in checkpoint could not be found in the restored object: (root).optimizer.learning_rate\n",
      "WARNING:tensorflow:Detecting that an object or model or tf.train.Checkpoint is being deleted with unrestored values. See the following logs for the specific values in question. To silence these warnings, use `status.expect_partial()`. See https://www.tensorflow.org/api_docs/python/tf/train/Checkpoint#restorefor details about the status object returned by the restore function.\n",
      "WARNING:tensorflow:Value in checkpoint could not be found in the restored object: (root).optimizer.iter\n",
      "WARNING:tensorflow:Value in checkpoint could not be found in the restored object: (root).optimizer.decay\n",
      "WARNING:tensorflow:Value in checkpoint could not be found in the restored object: (root).optimizer.learning_rate\n",
      "WARNING:tensorflow:Value in checkpoint could not be found in the restored object: (root).optimizer.momentum\n",
      "WARNING:tensorflow:Detecting that an object or model or tf.train.Checkpoint is being deleted with unrestored values. See the following logs for the specific values in question. To silence these warnings, use `status.expect_partial()`. See https://www.tensorflow.org/api_docs/python/tf/train/Checkpoint#restorefor details about the status object returned by the restore function.\n",
      "WARNING:tensorflow:Value in checkpoint could not be found in the restored object: (root).optimizer.iter\n",
      "WARNING:tensorflow:Value in checkpoint could not be found in the restored object: (root).optimizer.decay\n",
      "WARNING:tensorflow:Value in checkpoint could not be found in the restored object: (root).optimizer.learning_rate\n",
      "WARNING:tensorflow:Value in checkpoint could not be found in the restored object: (root).optimizer.momentum\n",
      "WARNING:tensorflow:Detecting that an object or model or tf.train.Checkpoint is being deleted with unrestored values. See the following logs for the specific values in question. To silence these warnings, use `status.expect_partial()`. See https://www.tensorflow.org/api_docs/python/tf/train/Checkpoint#restorefor details about the status object returned by the restore function.\n",
      "WARNING:tensorflow:Value in checkpoint could not be found in the restored object: (root).optimizer.iter\n",
      "WARNING:tensorflow:Value in checkpoint could not be found in the restored object: (root).optimizer.decay\n",
      "WARNING:tensorflow:Value in checkpoint could not be found in the restored object: (root).optimizer.learning_rate\n",
      "WARNING:tensorflow:Value in checkpoint could not be found in the restored object: (root).optimizer.momentum\n",
      "WARNING:tensorflow:Detecting that an object or model or tf.train.Checkpoint is being deleted with unrestored values. See the following logs for the specific values in question. To silence these warnings, use `status.expect_partial()`. See https://www.tensorflow.org/api_docs/python/tf/train/Checkpoint#restorefor details about the status object returned by the restore function.\n",
      "WARNING:tensorflow:Value in checkpoint could not be found in the restored object: (root).optimizer.iter\n",
      "WARNING:tensorflow:Value in checkpoint could not be found in the restored object: (root).optimizer.decay\n",
      "WARNING:tensorflow:Value in checkpoint could not be found in the restored object: (root).optimizer.learning_rate\n",
      "WARNING:tensorflow:Value in checkpoint could not be found in the restored object: (root).optimizer.momentum\n",
      "WARNING:tensorflow:Detecting that an object or model or tf.train.Checkpoint is being deleted with unrestored values. See the following logs for the specific values in question. To silence these warnings, use `status.expect_partial()`. See https://www.tensorflow.org/api_docs/python/tf/train/Checkpoint#restorefor details about the status object returned by the restore function.\n",
      "WARNING:tensorflow:Value in checkpoint could not be found in the restored object: (root).optimizer.iter\n",
      "WARNING:tensorflow:Value in checkpoint could not be found in the restored object: (root).optimizer.decay\n",
      "WARNING:tensorflow:Value in checkpoint could not be found in the restored object: (root).optimizer.learning_rate\n",
      "WARNING:tensorflow:Value in checkpoint could not be found in the restored object: (root).optimizer.momentum\n",
      "77/77 [==============================] - 27s 344ms/step - loss: 1.0070 - acc: 0.9016 - recall: 0.8913 - precision: 0.9196\n",
      "tf.Tensor(0.009999999776482582, shape=(), dtype=float64) 0.01 0.0001\n",
      "77/77 [==============================] - 68s 877ms/step\n",
      "77/77 [==============================] - 69s 885ms/step - loss: 154.3386 - acc: 0.8565 - recall: 0.8535 - precision: 0.8717\n",
      "tf.Tensor(0.001500000013038516, shape=(), dtype=float64) 0.01 0.001\n",
      "77/77 [==============================] - 1s 12ms/step\n",
      "77/77 [==============================] - 1s 11ms/step - loss: 0.6593 - acc: 0.8695 - recall: 0.8820 - precision: 0.8720\n",
      "tf.Tensor(0.001500000013038516, shape=(), dtype=float64) 0.01 1e-05\n",
      "77/77 [==============================] - 2s 29ms/step\n",
      "77/77 [==============================] - 3s 30ms/step - loss: 0.6472 - acc: 0.8659 - recall: 0.8219 - precision: 0.9150\n",
      "tf.Tensor(0.0010000000474974513, shape=(), dtype=float64) 0.01 0.001\n",
      "77/77 [==============================] - 103s 1s/step\n",
      "77/77 [==============================] - 101s 1s/step - loss: 0.7892 - acc: 0.8947 - recall: 0.9106 - precision: 0.8920\n",
      "tf.Tensor(0.0010000000474974513, shape=(), dtype=float64) 0.01 0.0001\n",
      "77/77 [==============================] - 29s 370ms/step\n",
      "77/77 [==============================] - 29s 371ms/step - loss: 0.7312 - acc: 0.8659 - recall: 0.8265 - precision: 0.9108\n",
      "tf.Tensor(0.001500000013038516, shape=(), dtype=float64) 0.001 0.01\n",
      "77/77 [==============================] - 77s 994ms/step\n",
      "WARNING:tensorflow:Detecting that an object or model or tf.train.Checkpoint is being deleted with unrestored values. See the following logs for the specific values in question. To silence these warnings, use `status.expect_partial()`. See https://www.tensorflow.org/api_docs/python/tf/train/Checkpoint#restorefor details about the status object returned by the restore function.\n"
     ]
    },
    {
     "name": "stdout",
     "output_type": "stream",
     "text": [
      "WARNING:tensorflow:Value in checkpoint could not be found in the restored object: (root).optimizer.iter\n",
      "WARNING:tensorflow:Value in checkpoint could not be found in the restored object: (root).optimizer.decay\n",
      "WARNING:tensorflow:Value in checkpoint could not be found in the restored object: (root).optimizer.learning_rate\n",
      "WARNING:tensorflow:Detecting that an object or model or tf.train.Checkpoint is being deleted with unrestored values. See the following logs for the specific values in question. To silence these warnings, use `status.expect_partial()`. See https://www.tensorflow.org/api_docs/python/tf/train/Checkpoint#restorefor details about the status object returned by the restore function.\n",
      "WARNING:tensorflow:Value in checkpoint could not be found in the restored object: (root).optimizer.iter\n",
      "WARNING:tensorflow:Value in checkpoint could not be found in the restored object: (root).optimizer.decay\n",
      "WARNING:tensorflow:Value in checkpoint could not be found in the restored object: (root).optimizer.learning_rate\n",
      "WARNING:tensorflow:Value in checkpoint could not be found in the restored object: (root).optimizer.rho\n",
      "WARNING:tensorflow:Detecting that an object or model or tf.train.Checkpoint is being deleted with unrestored values. See the following logs for the specific values in question. To silence these warnings, use `status.expect_partial()`. See https://www.tensorflow.org/api_docs/python/tf/train/Checkpoint#restorefor details about the status object returned by the restore function.\n",
      "WARNING:tensorflow:Value in checkpoint could not be found in the restored object: (root).optimizer.iter\n",
      "WARNING:tensorflow:Value in checkpoint could not be found in the restored object: (root).optimizer.decay\n",
      "WARNING:tensorflow:Value in checkpoint could not be found in the restored object: (root).optimizer.learning_rate\n",
      "WARNING:tensorflow:Value in checkpoint could not be found in the restored object: (root).optimizer.momentum\n",
      "WARNING:tensorflow:Detecting that an object or model or tf.train.Checkpoint is being deleted with unrestored values. See the following logs for the specific values in question. To silence these warnings, use `status.expect_partial()`. See https://www.tensorflow.org/api_docs/python/tf/train/Checkpoint#restorefor details about the status object returned by the restore function.\n",
      "WARNING:tensorflow:Value in checkpoint could not be found in the restored object: (root).optimizer.iter\n",
      "WARNING:tensorflow:Value in checkpoint could not be found in the restored object: (root).optimizer.decay\n",
      "WARNING:tensorflow:Value in checkpoint could not be found in the restored object: (root).optimizer.learning_rate\n",
      "WARNING:tensorflow:Value in checkpoint could not be found in the restored object: (root).optimizer.momentum\n",
      "WARNING:tensorflow:Detecting that an object or model or tf.train.Checkpoint is being deleted with unrestored values. See the following logs for the specific values in question. To silence these warnings, use `status.expect_partial()`. See https://www.tensorflow.org/api_docs/python/tf/train/Checkpoint#restorefor details about the status object returned by the restore function.\n",
      "WARNING:tensorflow:Value in checkpoint could not be found in the restored object: (root).optimizer.iter\n",
      "WARNING:tensorflow:Value in checkpoint could not be found in the restored object: (root).optimizer.decay\n",
      "WARNING:tensorflow:Value in checkpoint could not be found in the restored object: (root).optimizer.learning_rate\n",
      "WARNING:tensorflow:Detecting that an object or model or tf.train.Checkpoint is being deleted with unrestored values. See the following logs for the specific values in question. To silence these warnings, use `status.expect_partial()`. See https://www.tensorflow.org/api_docs/python/tf/train/Checkpoint#restorefor details about the status object returned by the restore function.\n",
      "WARNING:tensorflow:Value in checkpoint could not be found in the restored object: (root).optimizer.iter\n",
      "WARNING:tensorflow:Value in checkpoint could not be found in the restored object: (root).optimizer.decay\n",
      "WARNING:tensorflow:Value in checkpoint could not be found in the restored object: (root).optimizer.learning_rate\n",
      "WARNING:tensorflow:Value in checkpoint could not be found in the restored object: (root).optimizer.momentum\n",
      "77/77 [==============================] - 77s 994ms/step - loss: 0.7783 - acc: 0.9061 - recall: 0.9075 - precision: 0.9138\n",
      "tf.Tensor(0.001500000013038516, shape=(), dtype=float64) 0.001 0.01\n",
      "77/77 [==============================] - 69s 891ms/step\n",
      "77/77 [==============================] - 70s 910ms/step - loss: 0.6890 - acc: 0.8882 - recall: 0.8959 - precision: 0.8925\n",
      "tf.Tensor(0.0010000000474974513, shape=(), dtype=float64) 0.01 0.0001\n",
      "77/77 [==============================] - 115s 1s/step\n",
      "77/77 [==============================] - 114s 1s/step - loss: 0.8178 - acc: 0.8272 - recall: 0.7710 - precision: 0.8865\n",
      "tf.Tensor(0.001500000013038516, shape=(), dtype=float64) 0.01 0.001\n",
      "77/77 [==============================] - 2s 28ms/step\n",
      "77/77 [==============================] - 3s 29ms/step - loss: 2.2264 - acc: 0.8699 - recall: 0.8689 - precision: 0.8825\n",
      "precision: 0.95 recall: 0.86\n",
      "f1: 0.90 accuracy: 0.90\n"
     ]
    }
   ],
   "source": [
    "# Load in each checkpoint in turn and get predictions, then get the voted-on total prediction\n",
    "dataset_name = 'Negatome'\n",
    "all_test_predictions=[]\n",
    "individual_test_results=[]\n",
    "saved_data = np.load(f'{data_parent}/{dataset_name}/4_randomised.npz')\n",
    "actual_test_y = saved_data['test_Y']\n",
    "index_list=[2, 3, 4, 7, 10, 14, 15, 18, 21, 22]\n",
    "for i in index_list:\n",
    "    params = submodel_params[i]\n",
    "    k=params['k']\n",
    "    data_file = f'{data_parent}/{dataset_name}/{params[\"k\"]}_randomised.npz'\n",
    "    predictions,results = get_individual_predictions(params, i, 0, data_file,'test',\n",
    "                                                    join(out_checkpoints, f'{dataset_name}_{k}mers_{i}_0'))\n",
    "    all_test_predictions.append(predictions)\n",
    "    individual_test_results.append(results)\n",
    "mean_pred_test = np.array(all_test_predictions).squeeze().mean(axis=0)\n",
    "all_test_predictions_np = np.array(all_test_predictions).squeeze()\n",
    "voted_predictions = get_votes(all_test_predictions_np,index_list)>(np.floor(len(index_list)/2))\n",
    "score = accuracy_score(actual_test_y, voted_predictions).squeeze()\n",
    "plot_predictions(voted_predictions,actual_test_y)"
   ]
  },
  {
   "cell_type": "code",
   "execution_count": 14,
   "id": "7ee0aa2d",
   "metadata": {},
   "outputs": [],
   "source": [
    "def plot_predictions(predictions, actual):\n",
    "    class_predictions = predictions > 0.5\n",
    "    tp = np.count_nonzero((class_predictions == 1) & (actual == 1))\n",
    "    fp = np.count_nonzero((class_predictions == 1) & (actual == 0))\n",
    "    tn = np.count_nonzero((class_predictions == 0) & (actual == 0))\n",
    "    fn = np.count_nonzero((class_predictions == 0) & (actual == 1))\n",
    "    total = tp + fp + tn + fn\n",
    "    f1 = tp / (tp + 1/2 * (fp + fn))\n",
    "    acc = (tp+tn) / (total)\n",
    "    if tp+fp == 0:\n",
    "        prec = 0\n",
    "    else:\n",
    "        prec = tp / (tp+fp)\n",
    "    recall = tp / (tp + fn)\n",
    "    print('precision: {:.2f}'.format(prec),'recall: {:.2f}'.format(recall))\n",
    "    print('f1: {:.2f}'.format(f1),'accuracy: {:.2f}'.format(acc))\n",
    "\n",
    "def plot_confusion_matrix(conf):\n",
    "    print(conf)\n",
    "    row_sums = conf.sum(axis=1)\n",
    "    conf = conf / row_sums[:, np.newaxis]\n",
    "    print(conf)\n",
    "    plt.imshow(conf, cmap='Blues')\n",
    "    plt.ylabel('Actual')\n",
    "    plt.xlabel('Predicted')\n",
    "    plt.yticks([0,1])\n",
    "    plt.xticks([0,1])\n",
    "    midp = (np.amax(conf)+np.amin(conf))/2\n",
    "    for i in range(2):\n",
    "        for j in range(2):\n",
    "            if conf[i][j] > midp:\n",
    "                colour = 'w'\n",
    "            else:\n",
    "                colour = 'k'\n",
    "            plt.text(j,i,'{:.2f}'.format(conf[i][j]),c=colour)\n",
    "    plt.show()"
   ]
  },
  {
   "cell_type": "code",
   "execution_count": 20,
   "id": "91c732df",
   "metadata": {},
   "outputs": [
    {
     "name": "stdout",
     "output_type": "stream",
     "text": [
      "[[1102   61]\n",
      " [ 181 1116]]\n",
      "[[0.94754944 0.05245056]\n",
      " [0.13955281 0.86044719]]\n"
     ]
    },
    {
     "data": {
      "image/png": "[encoded data removed]",
      "text/plain": [
       "<Figure size 640x480 with 1 Axes>"
      ]
     },
     "metadata": {},
     "output_type": "display_data"
    }
   ],
   "source": [
    "plot_confusion_matrix(confusion_matrix(actual_test_y, voted_predictions))"
   ]
  },
  {
   "cell_type": "markdown",
   "id": "45510351",
   "metadata": {},
   "source": [
    "# Recombine data"
   ]
  },
  {
   "cell_type": "code",
   "execution_count": 8,
   "id": "d1ca58c4",
   "metadata": {},
   "outputs": [],
   "source": [
    "dataset_name = 'Recombine'\n",
    "if not exists(join(directory, dataset_name)):\n",
    "    mkdir(join(directory, dataset_name))\n",
    "out_parent = join(directory, dataset_name, 'Out')\n",
    "if not exists(out_parent):\n",
    "    mkdir(out_parent)\n",
    "out_checkpoints = join(out_parent, 'checkpoints')\n",
    "if not exists(out_checkpoints):\n",
    "    mkdir(out_checkpoints)\n"
   ]
  },
  {
   "cell_type": "code",
   "execution_count": null,
   "id": "2fad3a04",
   "metadata": {},
   "outputs": [],
   "source": [
    "# Best test acc. from the combinations with the highest val. acc.\n",
    "for i in [2, 3, 4, 7, 10, 14, 15, 18, 21, 22]:\n",
    "    params = submodel_params[i]\n",
    "    data_file = f'{data_parent}/{dataset_name}/{params[\"k\"]}_randomised.npz'\n",
    "    train_submodels(params,i,data_file,dataset_name,1)"
   ]
  },
  {
   "cell_type": "code",
   "execution_count": null,
   "id": "310bf63d",
   "metadata": {},
   "outputs": [],
   "source": [
    "dataset_name = 'Recombine'\n",
    "all_test_predictions=[]\n",
    "individual_test_results=[]\n",
    "saved_data = np.load(f'{data_parent}/{dataset_name}/4_randomised.npz')\n",
    "actual_test_y = saved_data['test_Y']\n",
    "index_list=[2, 3, 4, 7, 10, 14, 15, 18, 21, 22]\n",
    "for i in index_list:\n",
    "    params = submodel_params[i]\n",
    "    k=params['k']\n",
    "    data_file = f'{data_parent}/{dataset_name}/{params[\"k\"]}_randomised.npz'\n",
    "    predictions,results = get_individual_predictions(params, i, 0, data_file,'test',\n",
    "                                                    join(out_checkpoints, f'{dataset_name}_{k}mers_{i}_0'))\n",
    "    all_test_predictions.append(predictions)\n",
    "    individual_test_results.append(results)\n",
    "mean_pred_test = np.array(all_test_predictions).squeeze().mean(axis=0)\n",
    "all_test_predictions_np = np.array(all_test_predictions).squeeze()\n",
    "voted_predictions = get_votes(all_test_predictions_np,index_list)>(np.floor(len(index_list)/2))\n",
    "score = accuracy_score(actual_test_y, voted_predictions).squeeze()\n",
    "plot_predictions(voted_predictions,actual_test_y)"
   ]
  },
  {
   "cell_type": "code",
   "execution_count": 15,
   "id": "d382e69d",
   "metadata": {},
   "outputs": [
    {
     "name": "stdout",
     "output_type": "stream",
     "text": [
      "precision: 0.72 recall: 0.89\n",
      "f1: 0.79 accuracy: 0.77\n"
     ]
    }
   ],
   "source": [
    "voted_predictions = get_votes(all_test_predictions_np,index_list)>(np.floor(len(index_list)/2))\n",
    "score = accuracy_score(actual_test_y, voted_predictions).squeeze()\n",
    "plot_predictions(voted_predictions,actual_test_y)"
   ]
  },
  {
   "cell_type": "code",
   "execution_count": 16,
   "id": "08a1ace5",
   "metadata": {},
   "outputs": [
    {
     "name": "stdout",
     "output_type": "stream",
     "text": [
      "[[ 826  452]\n",
      " [ 147 1143]]\n",
      "[[0.64632238 0.35367762]\n",
      " [0.11395349 0.88604651]]\n"
     ]
    },
    {
     "data": {
      "image/png": "[encoded data removed]",
      "text/plain": [
       "<Figure size 640x480 with 1 Axes>"
      ]
     },
     "metadata": {},
     "output_type": "display_data"
    }
   ],
   "source": [
    "plot_confusion_matrix(confusion_matrix(actual_test_y, voted_predictions))"
   ]
  },
  {
   "cell_type": "code",
   "execution_count": null,
   "id": "15d83a3d",
   "metadata": {},
   "outputs": [],
   "source": []
  }
 ],
 "metadata": {
  "kernelspec": {
   "display_name": "Python 3 (ipykernel)",
   "language": "python",
   "name": "python3"
  },
  "language_info": {
   "codemirror_mode": {
    "name": "ipython",
    "version": 3
   },
   "file_extension": ".py",
   "mimetype": "text/x-python",
   "name": "python",
   "nbconvert_exporter": "python",
   "pygments_lexer": "ipython3",
   "version": "3.10.6"
  }
 },
 "nbformat": 4,
 "nbformat_minor": 5
}
