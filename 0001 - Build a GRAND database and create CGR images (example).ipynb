{
 "cells": [
  {
   "cell_type": "code",
   "execution_count": null,
   "id": "79405133",
   "metadata": {},
   "outputs": [],
   "source": [
    "import grand_scripts\n",
    "import pandas as pd\n",
    "from sequence_pairs import SampleList"
   ]
  },
  {
   "cell_type": "markdown",
   "id": "5fd2fd16",
   "metadata": {},
   "source": [
    "# *Arabidopsis thaliana*\n",
    "\n",
    "Loads in pairs of interacting proteins from a .csv file, and the results of CDHit clustering on the coding regions that code for the proteins. Performs GRAND to eliminate redundancy in the data, then generates an equal number of non-interacting \"negative\" pairs. Finally, create Chaos Game Representations for each sequence and save the data."
   ]
  },
  {
   "cell_type": "code",
   "execution_count": null,
   "id": "8a0185d4",
   "metadata": {},
   "outputs": [],
   "source": [
    "id_col_at_1='Protein_1'\n",
    "id_col_at_2='Protein_2'\n",
    "# Load in clustering results\n",
    "cluster_dict_at = grand_scripts.read_cluster_file('data/0001_build_grand_databases/Arabidopsis_thaliana/all_sequences_clustered.clstr')\n",
    "# Load in pairs\n",
    "pairs_df_at = pd.read_csv('data/0001_build_grand_databases/Arabidopsis_thaliana/all_positive_pairs.csv')\n",
    "# Load in sequences\n",
    "sequence_mapping=grand_scripts.load_sequences('data/0001_build_grand_databases/Arabidopsis_thaliana/all_sequences.fasta')\n",
    "# Run GRAND on positive (PPI) pairs\n",
    "positive_df_at = grand_scripts.run_grand(cluster_dict_at, pairs_df_at, id_col_at_1, id_col_at_2)\n",
    "# Generate equal number of negative (non-PPI) pairs\n",
    "negative_df_at = grand_scripts.get_negative_pairs(cluster_dict_at, positive_df_at, pairs_df_at, id_col_at_1, id_col_at_2)\n",
    "# Make into a \"sample list\" object for processing PPI data\n",
    "sample_list_at=SampleList.make_from_dataframes(positive_df_at, negative_df_at, sequence_mapping, id_col_at_1, id_col_at_2)\n",
    "# Make chaos game representations (3-mers and 4-mers)\n",
    "sample_list_at.split_and_save(range(3,5),'data/0001_build_grand_databases/Arabidopsis_thaliana','AtGrand')"
   ]
  },
  {
   "cell_type": "code",
   "execution_count": null,
   "id": "df0da9ea",
   "metadata": {},
   "outputs": [],
   "source": []
  }
 ],
 "metadata": {
  "kernelspec": {
   "display_name": "Python 3 (ipykernel)",
   "language": "python",
   "name": "python3"
  },
  "language_info": {
   "codemirror_mode": {
    "name": "ipython",
    "version": 3
   },
   "file_extension": ".py",
   "mimetype": "text/x-python",
   "name": "python",
   "nbconvert_exporter": "python",
   "pygments_lexer": "ipython3",
   "version": "3.10.6"
  }
 },
 "nbformat": 4,
 "nbformat_minor": 5
}
