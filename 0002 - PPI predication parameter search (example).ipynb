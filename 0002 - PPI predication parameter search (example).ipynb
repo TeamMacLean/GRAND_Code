{
 "cells": [
  {
   "cell_type": "code",
   "execution_count": null,
   "id": "221aa233",
   "metadata": {},
   "outputs": [],
   "source": [
    "from cgr_model import TwinModel, get_param_set, run_params\n",
    "import numpy as np\n",
    "import random\n",
    "import tensorflow as tf"
   ]
  },
  {
   "cell_type": "markdown",
   "id": "4a2dd5a0",
   "metadata": {},
   "source": [
    "# *Arabidopsis thaliana*\n",
    "\n",
    "Demonstrates how to perform a random hyperparameter search using the ArabidopsisPPI data. In practise, this is best performed on the GPU and not in a Jupyter notebook as it can be resource intensive."
   ]
  },
  {
   "cell_type": "code",
   "execution_count": null,
   "id": "e43100dd",
   "metadata": {},
   "outputs": [],
   "source": [
    "# Generate n sets of parameters and try 5 repetitions of training and validation\n",
    "n=1\n",
    "for i in range(n):\n",
    "    try:\n",
    "        # Run the training & validation\n",
    "        run_params(k=4, # length of substrings / resolution of CGRs\n",
    "                   params=get_param_set(i)\n",
    "                   saved_data=np.load('data/0000_datasets_as_used_in_paper/Arabidopsis_thaliana/AtGrand_4mers.npz'), # location of k-mer data\n",
    "                   output_folder='data/0002_ppi_prediction_parameter_search/Arabidopsis_thaliana/outputs', # Directory to store training/validation results \n",
    "                   checkpoint_folder=None, # if None, don't save model checkpoints. Otherwise, directory in whcih to store model checkpoint\n",
    "                   seed_i=i, \n",
    "                   output_prefix='ArabidopsisPPI')\n",
    "    except Exception as e:\n",
    "        # The parameter space to be searched is wide - some parameters may not create viable architectures. \n",
    "        # Catch and check errors\n",
    "        print(f'failed: {i}, {e}')"
   ]
  },
  {
   "cell_type": "code",
   "execution_count": null,
   "id": "008f695c",
   "metadata": {},
   "outputs": [],
   "source": []
  }
 ],
 "metadata": {
  "kernelspec": {
   "display_name": "Python 3 (ipykernel)",
   "language": "python",
   "name": "python3"
  },
  "language_info": {
   "codemirror_mode": {
    "name": "ipython",
    "version": 3
   },
   "file_extension": ".py",
   "mimetype": "text/x-python",
   "name": "python",
   "nbconvert_exporter": "python",
   "pygments_lexer": "ipython3",
   "version": "3.10.6"
  }
 },
 "nbformat": 4,
 "nbformat_minor": 5
}
