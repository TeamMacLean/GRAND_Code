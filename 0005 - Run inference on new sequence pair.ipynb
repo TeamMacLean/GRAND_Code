{
 "cells": [
  {
   "cell_type": "code",
   "execution_count": 20,
   "id": "ba3eb14a",
   "metadata": {},
   "outputs": [],
   "source": [
    "from sequence_pairs import make_cgr\n",
    "from cgr_model import predict, get_param_set\n",
    "from matplotlib import pyplot as plt\n",
    "import numpy as np\n",
    "from glob import glob\n",
    "import tensorflow as tf"
   ]
  },
  {
   "cell_type": "code",
   "execution_count": 21,
   "id": "29222f82",
   "metadata": {},
   "outputs": [],
   "source": [
    "tf.compat.v1.logging.set_verbosity(tf.compat.v1.logging.ERROR)"
   ]
  },
  {
   "cell_type": "code",
   "execution_count": 2,
   "id": "cf7c967e",
   "metadata": {},
   "outputs": [],
   "source": [
    "# put sequences in here to get a prediction of whether the proteins they code for will interact:\n",
    "sequence_1='ATGGGTGAGAAAGATATTCCAAGGAACTTGAAGGAAGAAGAAGAAGAAGAAGAAGAAAACCAAAGTGAAGAAACCAAAAGTTTGATCTCTTCACTTCCTTCAGACATAGATTGCTCAGGGACCAAGTTGTACAAGTACCAAGGATGTTGGTACGACAAAGATATTCTCCAAGCAATCCTCAATTTCAACAAAAACTTTCAGCCACAAGAAACGGATATAATTGTTGCTTCTTTCCCCAAATCGGGTACGACTTGGCTCAAGGCACTCACATTCGCACTCGCGCAAAGATCAAAACACACTTCAGACAATCATCCTCTGCTAACTCATAATCCTCATGAGCTAGTGCCGTACCTCGAGCTCGATCTTTATCTCAAAAGCTCGAAACCGGATTTGACCAAGTTGCCATCATCATCTCCGAGATTGTTCTCAACCCACATGTCCTTTGATGCGCTTAAAGTACCGTTGAAAGAGTCTCCTTGCAAGATCGTGTACGTGTGCAGGAACGTGAAAGACGTATTGGTATCACTTTGGTGTTTCGAAAACTCCATGAGTGGAGAAAACAATTTAAGTCTCGAGGCTTTGTTCGAGTCTTTATGTAGCGGAGTTAACTTATGCGGTCCCTTATGGGAAAATGTGTTAGGCTATTGGAGAGGAAGCTTGGAAGATCCTAAGCATGTGCTTTTCTTGAGGTACGAGGAGTTGAAGACGGAGCCTCGTGTGCAAATCAAGAGACTTGCAGAGTTCTTAGATTGTCCATTCACAAAGGAAGAAGAAGATAGTGGAGGTGTAGACAAGATCTTGGAACTTTGTTCTCTAAGAAACCTTAGCGGTTTGGAGATCAACAAAACAGGAAGCTTGTCGGAAGGAGTAAGTTTCAAGAGTTTTTTCCGTAAAGGGGAAGTTGGTGATTGGAAGAGTTATATGACTCCTGAAATGGAAAACAAAATCGACATGATTGTTGAGGAGAAACTTCAAGGCTCTGGTTTGAAATTGTAG'\n",
    "sequence_2='ATGGCGTCAGATCAGAGCACGAATCCACCGATCATGGAGGCAAAGACAAGACATCCTCTTCACCAGATCGCAGATACACCAACACACAAGCTTCTCCTGAAACAATGGTTAAAAGAAGAAGAGCTAATTCTAAGCCGTGTCTCTCACAAAGAATCTCAGATCGATTCTGTTCGAAGAGAAATCACTCAGCTCTACATCTTCTTCTTTCTCTTCCACTCCATTTCTCTGCTACTTCTCTTCCACGCTTCTTCATCCTCATCTTCCTCTGCTTCTTCCAGTGCTTGTAAAAGATCATGGATCCCTTCACTCTGCGCTCTGCTATCTTCCTTGGGGATCATTTGGGCGGTACGGTACAAATCTGAAGTGGAATCGCATCTTGAGAAGTTGTTGGAGAGGGAGAAAGAAGATGCGAAGCTGTTGCGTAAATGTGTTGAAGAGTTGAAGAAGAAAGGTATCGAATTTGATTTGCTTAAGGAAGTGGATGCGCTTCGTAGAGCCAAGAGTTTAAGAGTTGAGTCGAAGCCTGTGAAGAAATGGTCTGCTAGGGATTTTGTGACGCTCTTCTTCTTCTCTGTTTCGTGTTTGGTTCTTGCCATGATTAGACTCATTCTCTGCGATTGA'"
   ]
  },
  {
   "cell_type": "code",
   "execution_count": 3,
   "id": "041b3180",
   "metadata": {},
   "outputs": [
    {
     "data": {
      "image/png": "[encoded data removed]",
      "text/plain": [
       "<Figure size 640x480 with 2 Axes>"
      ]
     },
     "metadata": {},
     "output_type": "display_data"
    }
   ],
   "source": [
    "# build CGR attractors\n",
    "cgr_1=make_cgr(sequence_1, 4, True)\n",
    "cgr_2=make_cgr(sequence_2, 4, True)\n",
    "plt.subplot(1,2,1)\n",
    "plt.imshow(cgr_1)\n",
    "plt.subplot(1,2,2)\n",
    "plt.imshow(cgr_2)\n",
    "plt.show()"
   ]
  },
  {
   "cell_type": "markdown",
   "id": "bbf7687f",
   "metadata": {},
   "source": [
    "Get a prediction using one trained model:"
   ]
  },
  {
   "cell_type": "code",
   "execution_count": 8,
   "id": "d9e9b615",
   "metadata": {},
   "outputs": [
    {
     "name": "stdout",
     "output_type": "stream",
     "text": [
      "tf.Tensor(0.01, shape=(), dtype=float64) 0.01 0.0001\n",
      "1/1 [==============================] - 0s 101ms/step\n",
      "Predicted: PPI (0.9570114612579346)\n"
     ]
    }
   ],
   "source": [
    "seed_i=881\n",
    "params=get_param_set(seed_i)\n",
    "params['k']=4\n",
    "prediction = predict(params, \n",
    "        seed_i, \n",
    "        0, \n",
    "        f'data/0000_model_checkpoints/AtGrand_4mers_{seed_i}', \n",
    "        cgr_1, cgr_2)\n",
    "if prediction.item() > 0.5:\n",
    "    print(f'Predicted: PPI ({prediction.item()})')\n",
    "else:\n",
    "    print(f'Predicted: No PPI ({prediction.item()})')"
   ]
  },
  {
   "cell_type": "markdown",
   "id": "3f6166c7",
   "metadata": {},
   "source": [
    "Get a prediction using an ensemble of trained models"
   ]
  },
  {
   "cell_type": "code",
   "execution_count": null,
   "id": "44dba09e",
   "metadata": {},
   "outputs": [],
   "source": [
    "top_10_4mer_models=[130,212,385,481,670,692,777,856,869,881]\n",
    "votes=0\n",
    "for seed_i in top_10_4mer_models:\n",
    "    params=get_param_set(seed_i)\n",
    "    params['k']=4\n",
    "    prediction = predict(params, \n",
    "            seed_i, \n",
    "            0, \n",
    "            f'data/0000_model_checkpoints/AtGrand_4mers_{seed_i}', \n",
    "            cgr_1, cgr_2)\n",
    "    print(seed_i, prediction)\n",
    "    if prediction > 0.5:\n",
    "        votes+=1\n",
    "if votes > np.floor(len(index_list)/2):\n",
    "    print(f'Predicted: PPI ({votes} votes out of {len(top_10_4mer_models)})')\n",
    "else:\n",
    "    print(f'Predicted: No PPI ({votes} votes out of {len(top_10_4mer_models)})')"
   ]
  },
  {
   "cell_type": "code",
   "execution_count": null,
   "id": "6630ef52",
   "metadata": {},
   "outputs": [],
   "source": []
  }
 ],
 "metadata": {
  "kernelspec": {
   "display_name": "Python 3 (ipykernel)",
   "language": "python",
   "name": "python3"
  },
  "language_info": {
   "codemirror_mode": {
    "name": "ipython",
    "version": 3
   },
   "file_extension": ".py",
   "mimetype": "text/x-python",
   "name": "python",
   "nbconvert_exporter": "python",
   "pygments_lexer": "ipython3",
   "version": "3.10.6"
  }
 },
 "nbformat": 4,
 "nbformat_minor": 5
}
